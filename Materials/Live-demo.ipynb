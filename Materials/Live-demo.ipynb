{
 "cells": [
  {
   "cell_type": "code",
   "execution_count": 6,
   "id": "cb41c444-db21-494f-b5a3-ca47b79d4e91",
   "metadata": {},
   "outputs": [],
   "source": [
    "import jax\n",
    "import jax.numpy as jnp\n",
    "from functools import partial"
   ]
  },
  {
   "cell_type": "code",
   "execution_count": 61,
   "id": "510a518f-faed-4312-bf3e-d7947871c094",
   "metadata": {},
   "outputs": [],
   "source": [
    "@jax.jit\n",
    "def inner(x):\n",
    "    print(\"hi from inner\", x)\n",
    "    return jnp.exp(x) + x\n",
    "\n",
    "def outer(x):\n",
    "    return inner(x) + inner(x.astype(int))"
   ]
  },
  {
   "cell_type": "code",
   "execution_count": 62,
   "id": "5b4a423f-b0cd-42bf-a781-d0b427f80744",
   "metadata": {},
   "outputs": [],
   "source": [
    "x = jnp.linspace(0, 1, 3)"
   ]
  },
  {
   "cell_type": "code",
   "execution_count": 63,
   "id": "15653c68-e34f-4c2d-b86b-724302aae879",
   "metadata": {},
   "outputs": [
    {
     "name": "stdout",
     "output_type": "stream",
     "text": [
      "hi from inner Traced<ShapedArray(float32[3])>with<DynamicJaxprTrace(level=2/0)>\n",
      "hi from inner Traced<ShapedArray(int32[3])>with<DynamicJaxprTrace(level=2/0)>\n"
     ]
    },
    {
     "data": {
      "text/plain": [
       "Array([2.       , 3.1487212, 7.4365635], dtype=float32)"
      ]
     },
     "execution_count": 63,
     "metadata": {},
     "output_type": "execute_result"
    }
   ],
   "source": [
    "jax.jit(outer)(x)"
   ]
  },
  {
   "cell_type": "code",
   "execution_count": 54,
   "id": "39533e82-737b-4a74-a6d3-29e28b22ce9b",
   "metadata": {},
   "outputs": [
    {
     "data": {
      "text/plain": [
       "Array([ 4.7182817,  8.13041  , 13.107338 ], dtype=float32)"
      ]
     },
     "execution_count": 54,
     "metadata": {},
     "output_type": "execute_result"
    }
   ],
   "source": [
    "jax.jit(outer)(x)"
   ]
  },
  {
   "cell_type": "code",
   "execution_count": 25,
   "id": "8b629f1c-18f5-4e49-bc9c-083252f9d503",
   "metadata": {},
   "outputs": [
    {
     "name": "stdout",
     "output_type": "stream",
     "text": [
      "hi from inner\n",
      "module @jit_outer attributes {mhlo.num_partitions = 1 : i32, mhlo.num_replicas = 1 : i32} {\n",
      "  func.func public @main(%arg0: tensor<3xf32>) -> (tensor<3xf32> {jax.result_info = \"\"}) {\n",
      "    %0 = call @inner(%arg0) : (tensor<3xf32>) -> tensor<3xf32>\n",
      "    %cst = stablehlo.constant dense<1.000000e+00> : tensor<f32>\n",
      "    %1 = stablehlo.broadcast_in_dim %cst, dims = [] : (tensor<f32>) -> tensor<3xf32>\n",
      "    %2 = stablehlo.add %arg0, %1 : tensor<3xf32>\n",
      "    %3 = call @inner(%2) : (tensor<3xf32>) -> tensor<3xf32>\n",
      "    %4 = stablehlo.add %0, %3 : tensor<3xf32>\n",
      "    return %4 : tensor<3xf32>\n",
      "  }\n",
      "  func.func private @inner(%arg0: tensor<3xf32>) -> tensor<3xf32> {\n",
      "    %0 = stablehlo.exponential %arg0 : tensor<3xf32>\n",
      "    %1 = stablehlo.add %0, %arg0 : tensor<3xf32>\n",
      "    return %1 : tensor<3xf32>\n",
      "  }\n",
      "}\n",
      "\n"
     ]
    }
   ],
   "source": [
    "print(jax.jit(outer).lower(x).as_text())"
   ]
  },
  {
   "cell_type": "code",
   "execution_count": 22,
   "id": "fd7116e1-3998-4a23-873f-d892cc92cb62",
   "metadata": {},
   "outputs": [
    {
     "name": "stdout",
     "output_type": "stream",
     "text": [
      "hi from inner\n",
      "module @jit_outer attributes {mhlo.num_partitions = 1 : i32, mhlo.num_replicas = 1 : i32} {\n",
      "  func.func public @main(%arg0: tensor<3xf32>) -> (tensor<3xf32> {jax.result_info = \"\"}) {\n",
      "    %0 = stablehlo.exponential %arg0 : tensor<3xf32>\n",
      "    %1 = stablehlo.add %0, %arg0 : tensor<3xf32>\n",
      "    %cst = stablehlo.constant dense<1.000000e+00> : tensor<f32>\n",
      "    %2 = stablehlo.broadcast_in_dim %cst, dims = [] : (tensor<f32>) -> tensor<3xf32>\n",
      "    %3 = stablehlo.add %arg0, %2 : tensor<3xf32>\n",
      "    %4 = stablehlo.exponential %3 : tensor<3xf32>\n",
      "    %5 = stablehlo.add %4, %3 : tensor<3xf32>\n",
      "    %6 = stablehlo.add %1, %5 : tensor<3xf32>\n",
      "    return %6 : tensor<3xf32>\n",
      "  }\n",
      "}\n",
      "\n"
     ]
    }
   ],
   "source": [
    "print(jax.jit(outer).lower(x).as_text())"
   ]
  },
  {
   "cell_type": "code",
   "execution_count": null,
   "id": "482c7ddd-e833-46a0-9d24-d79004244a85",
   "metadata": {},
   "outputs": [],
   "source": []
  },
  {
   "cell_type": "code",
   "execution_count": 19,
   "id": "483aa048-f7ab-426d-8c71-73fbab53c1d7",
   "metadata": {},
   "outputs": [
    {
     "name": "stdout",
     "output_type": "stream",
     "text": [
      "hi from inner\n",
      "hi from inner\n",
      "HloModule jit_outer, is_scheduled=true, entry_computation_layout={(f32[3]{0})->f32[3]{0}}, allow_spmd_sharding_propagation_to_parameters={true}, allow_spmd_sharding_propagation_to_output={true}\n",
      "\n",
      "%fused_computation (param_0.1: f32[3]) -> f32[3] {\n",
      "  %param_0.1 = f32[3]{0} parameter(0)\n",
      "  %exponential.1 = f32[3]{0} exponential(f32[3]{0} %param_0.1), metadata={op_name=\"jit(outer)/jit(main)/exp\" source_file=\"/var/folders/rb/0cbmk8n57sl2r9hlgzpl0wxm0181x6/T/ipykernel_51078/1365869465.py\" source_line=4}\n",
      "  %add.3 = f32[3]{0} add(f32[3]{0} %exponential.1, f32[3]{0} %param_0.1), metadata={op_name=\"jit(outer)/jit(main)/add\" source_file=\"/var/folders/rb/0cbmk8n57sl2r9hlgzpl0wxm0181x6/T/ipykernel_51078/1365869465.py\" source_line=4}\n",
      "  %constant.0 = f32[] constant(1)\n",
      "  %broadcast.0 = f32[3]{0} broadcast(f32[] %constant.0), dimensions={}\n",
      "  %add.2 = f32[3]{0} add(f32[3]{0} %param_0.1, f32[3]{0} %broadcast.0), metadata={op_name=\"jit(outer)/jit(main)/add\" source_file=\"/var/folders/rb/0cbmk8n57sl2r9hlgzpl0wxm0181x6/T/ipykernel_51078/1365869465.py\" source_line=7}\n",
      "  %exponential.0 = f32[3]{0} exponential(f32[3]{0} %add.2), metadata={op_name=\"jit(outer)/jit(main)/exp\" source_file=\"/var/folders/rb/0cbmk8n57sl2r9hlgzpl0wxm0181x6/T/ipykernel_51078/1365869465.py\" source_line=4}\n",
      "  %add.1 = f32[3]{0} add(f32[3]{0} %exponential.0, f32[3]{0} %add.2), metadata={op_name=\"jit(outer)/jit(main)/add\" source_file=\"/var/folders/rb/0cbmk8n57sl2r9hlgzpl0wxm0181x6/T/ipykernel_51078/1365869465.py\" source_line=4}\n",
      "  ROOT %add.0 = f32[3]{0} add(f32[3]{0} %add.3, f32[3]{0} %add.1), metadata={op_name=\"jit(outer)/jit(main)/add\" source_file=\"/var/folders/rb/0cbmk8n57sl2r9hlgzpl0wxm0181x6/T/ipykernel_51078/1365869465.py\" source_line=7}\n",
      "}\n",
      "\n",
      "ENTRY %main.10 (Arg_0.1: f32[3]) -> f32[3] {\n",
      "  %Arg_0.1 = f32[3]{0} parameter(0), metadata={op_name=\"x\"}\n",
      "  ROOT %add_add_fusion = f32[3]{0} fusion(f32[3]{0} %Arg_0.1), kind=kLoop, calls=%fused_computation, metadata={op_name=\"jit(outer)/jit(main)/add\" source_file=\"/var/folders/rb/0cbmk8n57sl2r9hlgzpl0wxm0181x6/T/ipykernel_51078/1365869465.py\" source_line=7}\n",
      "}\n",
      "\n",
      "\n"
     ]
    }
   ],
   "source": [
    "print(jax.jit(outer).lower(x).compile().as_text())"
   ]
  },
  {
   "cell_type": "code",
   "execution_count": 16,
   "id": "049f1d06-9b1c-403d-bea6-e6c62827541d",
   "metadata": {},
   "outputs": [
    {
     "name": "stdout",
     "output_type": "stream",
     "text": [
      "HloModule jit_outer, is_scheduled=true, entry_computation_layout={(f32[3]{0})->f32[3]{0}}, allow_spmd_sharding_propagation_to_parameters={true}, allow_spmd_sharding_propagation_to_output={true}\n",
      "\n",
      "%fused_computation (param_0.1: f32[3]) -> f32[3] {\n",
      "  %param_0.1 = f32[3]{0} parameter(0)\n",
      "  %exponential.3 = f32[3]{0} exponential(f32[3]{0} %param_0.1), metadata={op_name=\"jit(outer)/jit(main)/jit(inner)/exp\" source_file=\"/var/folders/rb/0cbmk8n57sl2r9hlgzpl0wxm0181x6/T/ipykernel_51078/3771274069.py\" source_line=4}\n",
      "  %add.5 = f32[3]{0} add(f32[3]{0} %exponential.3, f32[3]{0} %param_0.1), metadata={op_name=\"jit(outer)/jit(main)/jit(inner)/add\" source_file=\"/var/folders/rb/0cbmk8n57sl2r9hlgzpl0wxm0181x6/T/ipykernel_51078/3771274069.py\" source_line=4}\n",
      "  %constant.0 = f32[] constant(1)\n",
      "  %broadcast.0 = f32[3]{0} broadcast(f32[] %constant.0), dimensions={}\n",
      "  %add.4 = f32[3]{0} add(f32[3]{0} %param_0.1, f32[3]{0} %broadcast.0), metadata={op_name=\"jit(outer)/jit(main)/add\" source_file=\"/var/folders/rb/0cbmk8n57sl2r9hlgzpl0wxm0181x6/T/ipykernel_51078/3771274069.py\" source_line=7}\n",
      "  %exponential.2 = f32[3]{0} exponential(f32[3]{0} %add.4), metadata={op_name=\"jit(outer)/jit(main)/jit(inner)/exp\" source_file=\"/var/folders/rb/0cbmk8n57sl2r9hlgzpl0wxm0181x6/T/ipykernel_51078/3771274069.py\" source_line=4}\n",
      "  %add.3 = f32[3]{0} add(f32[3]{0} %exponential.2, f32[3]{0} %add.4), metadata={op_name=\"jit(outer)/jit(main)/jit(inner)/add\" source_file=\"/var/folders/rb/0cbmk8n57sl2r9hlgzpl0wxm0181x6/T/ipykernel_51078/3771274069.py\" source_line=4}\n",
      "  ROOT %add.2 = f32[3]{0} add(f32[3]{0} %add.5, f32[3]{0} %add.3), metadata={op_name=\"jit(outer)/jit(main)/add\" source_file=\"/var/folders/rb/0cbmk8n57sl2r9hlgzpl0wxm0181x6/T/ipykernel_51078/3771274069.py\" source_line=7}\n",
      "}\n",
      "\n",
      "ENTRY %main.16 (Arg_0.1: f32[3]) -> f32[3] {\n",
      "  %Arg_0.1 = f32[3]{0} parameter(0), metadata={op_name=\"x\"}\n",
      "  ROOT %add_add_fusion = f32[3]{0} fusion(f32[3]{0} %Arg_0.1), kind=kLoop, calls=%fused_computation, metadata={op_name=\"jit(outer)/jit(main)/add\" source_file=\"/var/folders/rb/0cbmk8n57sl2r9hlgzpl0wxm0181x6/T/ipykernel_51078/3771274069.py\" source_line=7}\n",
      "}\n",
      "\n",
      "\n"
     ]
    }
   ],
   "source": [
    "print(jax.jit(outer).lower(x).compile().as_text())"
   ]
  },
  {
   "cell_type": "code",
   "execution_count": 41,
   "id": "42e77d9c-233b-44bb-9351-99c93164a593",
   "metadata": {},
   "outputs": [
    {
     "data": {
      "text/plain": [
       "{ \u001b[34m\u001b[22m\u001b[1mlambda \u001b[39m\u001b[22m\u001b[22m; a\u001b[35m:f32[100,200,200]\u001b[39m. \u001b[34m\u001b[22m\u001b[1mlet\n",
       "    \u001b[39m\u001b[22m\u001b[22mb\u001b[35m:f32[100,200,200]\u001b[39m = pjit[\n",
       "      name=fun\n",
       "      jaxpr={ \u001b[34m\u001b[22m\u001b[1mlambda \u001b[39m\u001b[22m\u001b[22m; c\u001b[35m:f32[100,200,200]\u001b[39m. \u001b[34m\u001b[22m\u001b[1mlet\n",
       "          \u001b[39m\u001b[22m\u001b[22md\u001b[35m:f32[100,200,200]\u001b[39m = pjit[\n",
       "            name=cholesky\n",
       "            jaxpr={ \u001b[34m\u001b[22m\u001b[1mlambda \u001b[39m\u001b[22m\u001b[22m; e\u001b[35m:f32[100,200,200]\u001b[39m. \u001b[34m\u001b[22m\u001b[1mlet\n",
       "                \u001b[39m\u001b[22m\u001b[22mf\u001b[35m:f32[100,200,200]\u001b[39m = transpose[permutation=(0, 2, 1)] e\n",
       "                g\u001b[35m:f32[100,200,200]\u001b[39m = add e f\n",
       "                h\u001b[35m:f32[100,200,200]\u001b[39m = div g 2.0\n",
       "                i\u001b[35m:f32[100,200,200]\u001b[39m = transpose[permutation=(0, 2, 1)] h\n",
       "                j\u001b[35m:f32[100,200,200]\u001b[39m = add h i\n",
       "                k\u001b[35m:f32[100,200,200]\u001b[39m = div j 2.0\n",
       "                l\u001b[35m:f32[100,200,200]\u001b[39m = cholesky k\n",
       "                m\u001b[35m:i32[200,200]\u001b[39m = iota[dimension=0 dtype=int32 shape=(200, 200)] \n",
       "                n\u001b[35m:i32[200,200]\u001b[39m = add m 0\n",
       "                o\u001b[35m:i32[200,200]\u001b[39m = iota[dimension=1 dtype=int32 shape=(200, 200)] \n",
       "                p\u001b[35m:bool[200,200]\u001b[39m = ge n o\n",
       "                q\u001b[35m:bool[100,200,200]\u001b[39m = broadcast_in_dim[\n",
       "                  broadcast_dimensions=(1, 2)\n",
       "                  shape=(100, 200, 200)\n",
       "                ] p\n",
       "                r\u001b[35m:f32[100,200,200]\u001b[39m = broadcast_in_dim[\n",
       "                  broadcast_dimensions=()\n",
       "                  shape=(100, 200, 200)\n",
       "                ] 0.0\n",
       "                s\u001b[35m:f32[100,200,200]\u001b[39m = select_n q r l\n",
       "                t\u001b[35m:i32[200,200]\u001b[39m = iota[dimension=0 dtype=int32 shape=(200, 200)] \n",
       "                u\u001b[35m:i32[200,200]\u001b[39m = add t 0\n",
       "                v\u001b[35m:i32[200,200]\u001b[39m = iota[dimension=1 dtype=int32 shape=(200, 200)] \n",
       "                w\u001b[35m:bool[200,200]\u001b[39m = ge u v\n",
       "                x\u001b[35m:f32[200,200]\u001b[39m = broadcast_in_dim[\n",
       "                  broadcast_dimensions=()\n",
       "                  shape=(200, 200)\n",
       "                ] 0.0\n",
       "                y\u001b[35m:bool[100,200,200]\u001b[39m = broadcast_in_dim[\n",
       "                  broadcast_dimensions=(np.int64(1), np.int64(2))\n",
       "                  shape=(100, 200, 200)\n",
       "                ] w\n",
       "                z\u001b[35m:f32[100,200,200]\u001b[39m = broadcast_in_dim[\n",
       "                  broadcast_dimensions=(np.int64(1), np.int64(2))\n",
       "                  shape=(100, 200, 200)\n",
       "                ] x\n",
       "                ba\u001b[35m:f32[100,200,200]\u001b[39m = select_n y z s\n",
       "              \u001b[34m\u001b[22m\u001b[1min \u001b[39m\u001b[22m\u001b[22m(ba,) }\n",
       "          ] c\n",
       "        \u001b[34m\u001b[22m\u001b[1min \u001b[39m\u001b[22m\u001b[22m(d,) }\n",
       "    ] a\n",
       "  \u001b[34m\u001b[22m\u001b[1min \u001b[39m\u001b[22m\u001b[22m(b,) }"
      ]
     },
     "execution_count": 41,
     "metadata": {},
     "output_type": "execute_result"
    }
   ],
   "source": [
    "def fun(x):\n",
    "    return jnp.linalg.cholesky(x)\n",
    "\n",
    "x = jnp.eye(200)\n",
    "x = x[None, :, :] + jnp.zeros((100, 200, 200))\n",
    "\n",
    "jax.make_jaxpr(jax.vmap(jax.jit(fun)))(x)"
   ]
  },
  {
   "cell_type": "code",
   "execution_count": 42,
   "id": "830fa248-6bd6-4c61-8ff7-55bdf49923f9",
   "metadata": {},
   "outputs": [
    {
     "data": {
      "text/plain": [
       "{ \u001b[34m\u001b[22m\u001b[1mlambda \u001b[39m\u001b[22m\u001b[22m; a\u001b[35m:f32[100,200,200]\u001b[39m. \u001b[34m\u001b[22m\u001b[1mlet\n",
       "    \u001b[39m\u001b[22m\u001b[22mb\u001b[35m:f32[100,200,200]\u001b[39m = pjit[\n",
       "      name=fun\n",
       "      jaxpr={ \u001b[34m\u001b[22m\u001b[1mlambda \u001b[39m\u001b[22m\u001b[22m; c\u001b[35m:f32[100,200,200]\u001b[39m. \u001b[34m\u001b[22m\u001b[1mlet\n",
       "          \u001b[39m\u001b[22m\u001b[22md\u001b[35m:f32[100,200,200]\u001b[39m = pjit[\n",
       "            name=cholesky\n",
       "            jaxpr={ \u001b[34m\u001b[22m\u001b[1mlambda \u001b[39m\u001b[22m\u001b[22m; e\u001b[35m:f32[100,200,200]\u001b[39m. \u001b[34m\u001b[22m\u001b[1mlet\n",
       "                \u001b[39m\u001b[22m\u001b[22mf\u001b[35m:f32[100,200,200]\u001b[39m = transpose[permutation=(0, 2, 1)] e\n",
       "                g\u001b[35m:f32[100,200,200]\u001b[39m = add e f\n",
       "                h\u001b[35m:f32[100,200,200]\u001b[39m = div g 2.0\n",
       "                i\u001b[35m:f32[100,200,200]\u001b[39m = transpose[permutation=(0, 2, 1)] h\n",
       "                j\u001b[35m:f32[100,200,200]\u001b[39m = add h i\n",
       "                k\u001b[35m:f32[100,200,200]\u001b[39m = div j 2.0\n",
       "                l\u001b[35m:f32[100,200,200]\u001b[39m = cholesky k\n",
       "                m\u001b[35m:i32[200,200]\u001b[39m = iota[dimension=0 dtype=int32 shape=(200, 200)] \n",
       "                n\u001b[35m:i32[200,200]\u001b[39m = add m 0\n",
       "                o\u001b[35m:i32[200,200]\u001b[39m = iota[dimension=1 dtype=int32 shape=(200, 200)] \n",
       "                p\u001b[35m:bool[200,200]\u001b[39m = ge n o\n",
       "                q\u001b[35m:bool[100,200,200]\u001b[39m = broadcast_in_dim[\n",
       "                  broadcast_dimensions=(1, 2)\n",
       "                  shape=(100, 200, 200)\n",
       "                ] p\n",
       "                r\u001b[35m:f32[100,200,200]\u001b[39m = broadcast_in_dim[\n",
       "                  broadcast_dimensions=()\n",
       "                  shape=(100, 200, 200)\n",
       "                ] 0.0\n",
       "                s\u001b[35m:f32[100,200,200]\u001b[39m = select_n q r l\n",
       "                t\u001b[35m:i32[200,200]\u001b[39m = iota[dimension=0 dtype=int32 shape=(200, 200)] \n",
       "                u\u001b[35m:i32[200,200]\u001b[39m = add t 0\n",
       "                v\u001b[35m:i32[200,200]\u001b[39m = iota[dimension=1 dtype=int32 shape=(200, 200)] \n",
       "                w\u001b[35m:bool[200,200]\u001b[39m = ge u v\n",
       "                x\u001b[35m:f32[200,200]\u001b[39m = broadcast_in_dim[\n",
       "                  broadcast_dimensions=()\n",
       "                  shape=(200, 200)\n",
       "                ] 0.0\n",
       "                y\u001b[35m:bool[100,200,200]\u001b[39m = broadcast_in_dim[\n",
       "                  broadcast_dimensions=(np.int64(1), np.int64(2))\n",
       "                  shape=(100, 200, 200)\n",
       "                ] w\n",
       "                z\u001b[35m:f32[100,200,200]\u001b[39m = broadcast_in_dim[\n",
       "                  broadcast_dimensions=(np.int64(1), np.int64(2))\n",
       "                  shape=(100, 200, 200)\n",
       "                ] x\n",
       "                ba\u001b[35m:f32[100,200,200]\u001b[39m = select_n y z s\n",
       "              \u001b[34m\u001b[22m\u001b[1min \u001b[39m\u001b[22m\u001b[22m(ba,) }\n",
       "          ] c\n",
       "        \u001b[34m\u001b[22m\u001b[1min \u001b[39m\u001b[22m\u001b[22m(d,) }\n",
       "    ] a\n",
       "  \u001b[34m\u001b[22m\u001b[1min \u001b[39m\u001b[22m\u001b[22m(b,) }"
      ]
     },
     "execution_count": 42,
     "metadata": {},
     "output_type": "execute_result"
    }
   ],
   "source": [
    "jax.make_jaxpr(jax.jit(jax.vmap(fun)))(x)"
   ]
  },
  {
   "cell_type": "code",
   "execution_count": 43,
   "id": "3977b9ea-5a24-45cf-adaf-37076ad88ab9",
   "metadata": {},
   "outputs": [
    {
     "name": "stdout",
     "output_type": "stream",
     "text": [
      "10.7 ms ± 66.5 μs per loop (mean ± std. dev. of 7 runs, 100 loops each)\n"
     ]
    }
   ],
   "source": [
    "f = jax.vmap(fun)\n",
    "jax.block_until_ready(f(x))\n",
    "%timeit jax.block_until_ready(f(x))"
   ]
  },
  {
   "cell_type": "code",
   "execution_count": 44,
   "id": "b1f410aa-69ff-4729-86a8-ab42d45452af",
   "metadata": {},
   "outputs": [
    {
     "name": "stdout",
     "output_type": "stream",
     "text": [
      "10.4 ms ± 20.2 μs per loop (mean ± std. dev. of 7 runs, 100 loops each)\n"
     ]
    }
   ],
   "source": [
    "f = jax.jit(jax.vmap(fun))\n",
    "jax.block_until_ready(f(x))\n",
    "%timeit jax.block_until_ready(f(x))"
   ]
  },
  {
   "cell_type": "code",
   "execution_count": null,
   "id": "ffbaf389-cf3b-4b4f-8a38-1dd6cf8ca491",
   "metadata": {},
   "outputs": [],
   "source": []
  },
  {
   "cell_type": "code",
   "execution_count": null,
   "id": "08fc0da5-1678-499f-a6b0-cc69d6c8e2a7",
   "metadata": {},
   "outputs": [],
   "source": []
  },
  {
   "cell_type": "code",
   "execution_count": null,
   "id": "32f43f56-aec6-4f8a-93ee-61ff778aa2f7",
   "metadata": {},
   "outputs": [],
   "source": []
  },
  {
   "cell_type": "code",
   "execution_count": 64,
   "id": "83c29f8b-9b3e-42ee-8a48-9d394cad98cb",
   "metadata": {},
   "outputs": [],
   "source": [
    "def fun_vec(a, b):\n",
    "    return a[None, :] + b\n",
    "\n",
    "@partial(jax.vmap, in_axes=(None, 0))\n",
    "def fun(a, b):\n",
    "    return a + b"
   ]
  },
  {
   "cell_type": "code",
   "execution_count": 65,
   "id": "c79274f9-3b50-47e4-99db-004508395043",
   "metadata": {},
   "outputs": [],
   "source": [
    "a = jnp.ones(5)\n",
    "b = jnp.zeros((4, 5))"
   ]
  },
  {
   "cell_type": "code",
   "execution_count": 66,
   "id": "e1a2374c-b085-4f62-9fd0-b056a5c96901",
   "metadata": {},
   "outputs": [
    {
     "data": {
      "text/plain": [
       "{ \u001b[34m\u001b[22m\u001b[1mlambda \u001b[39m\u001b[22m\u001b[22m; a\u001b[35m:f32[5]\u001b[39m b\u001b[35m:f32[4,5]\u001b[39m. \u001b[34m\u001b[22m\u001b[1mlet\n",
       "    \u001b[39m\u001b[22m\u001b[22mc\u001b[35m:f32[1,5]\u001b[39m = broadcast_in_dim[broadcast_dimensions=(1,) shape=(1, 5)] a\n",
       "    d\u001b[35m:f32[4,5]\u001b[39m = add c b\n",
       "  \u001b[34m\u001b[22m\u001b[1min \u001b[39m\u001b[22m\u001b[22m(d,) }"
      ]
     },
     "execution_count": 66,
     "metadata": {},
     "output_type": "execute_result"
    }
   ],
   "source": [
    "jax.make_jaxpr(fun_vec)(a, b)"
   ]
  },
  {
   "cell_type": "code",
   "execution_count": 67,
   "id": "4a99d823-66c4-4104-8fda-f48e42829a7e",
   "metadata": {},
   "outputs": [
    {
     "data": {
      "text/plain": [
       "{ \u001b[34m\u001b[22m\u001b[1mlambda \u001b[39m\u001b[22m\u001b[22m; a\u001b[35m:f32[5]\u001b[39m b\u001b[35m:f32[4,5]\u001b[39m. \u001b[34m\u001b[22m\u001b[1mlet\n",
       "    \u001b[39m\u001b[22m\u001b[22mc\u001b[35m:f32[1,5]\u001b[39m = broadcast_in_dim[\n",
       "      broadcast_dimensions=(np.int64(1),)\n",
       "      shape=(1, 5)\n",
       "    ] a\n",
       "    d\u001b[35m:f32[4,5]\u001b[39m = add c b\n",
       "  \u001b[34m\u001b[22m\u001b[1min \u001b[39m\u001b[22m\u001b[22m(d,) }"
      ]
     },
     "execution_count": 67,
     "metadata": {},
     "output_type": "execute_result"
    }
   ],
   "source": [
    "jax.make_jaxpr(fun)(a, b)"
   ]
  },
  {
   "cell_type": "code",
   "execution_count": null,
   "id": "35000ac6-9b2f-412c-9c11-878b433f15ff",
   "metadata": {},
   "outputs": [],
   "source": []
  },
  {
   "cell_type": "code",
   "execution_count": null,
   "id": "9ca9394b-b268-42e0-a1af-1265d82fbd30",
   "metadata": {},
   "outputs": [],
   "source": []
  },
  {
   "cell_type": "code",
   "execution_count": null,
   "id": "8c41833b-0a49-4a77-9347-70878c326947",
   "metadata": {},
   "outputs": [],
   "source": []
  },
  {
   "cell_type": "code",
   "execution_count": null,
   "id": "187d2b96-75a9-46f3-a531-d2e53340cbfa",
   "metadata": {},
   "outputs": [],
   "source": []
  },
  {
   "cell_type": "code",
   "execution_count": 74,
   "id": "f2dc0fbe-10bc-4f9e-b137-b3763bd9ec85",
   "metadata": {},
   "outputs": [],
   "source": [
    "@jax.jit\n",
    "def fun(x):\n",
    "    return jnp.exp(x) + x ** 1.234\n",
    "\n",
    "\n",
    "# fun(x)"
   ]
  },
  {
   "cell_type": "code",
   "execution_count": 75,
   "id": "beb43f18-a528-41d7-b0e8-66f7b13e07ac",
   "metadata": {},
   "outputs": [
    {
     "name": "stderr",
     "output_type": "stream",
     "text": [
      "TRACING CACHE MISS at /var/folders/rb/0cbmk8n57sl2r9hlgzpl0wxm0181x6/T/ipykernel_51078/1719737272.py:2 (<module>) because:\n",
      "  never seen function:\n",
      "    fun id=5132480816 defined at /var/folders/rb/0cbmk8n57sl2r9hlgzpl0wxm0181x6/T/ipykernel_51078/3464009699.py:1\n"
     ]
    }
   ],
   "source": [
    "with jax.explain_cache_misses():\n",
    "    fun(x)"
   ]
  },
  {
   "cell_type": "code",
   "execution_count": 76,
   "id": "c7bb288d-7658-45c6-a13f-32eb875cf9ae",
   "metadata": {},
   "outputs": [
    {
     "name": "stderr",
     "output_type": "stream",
     "text": [
      "TRACING CACHE MISS at /var/folders/rb/0cbmk8n57sl2r9hlgzpl0wxm0181x6/T/ipykernel_51078/667903597.py:2 (<module>) because:\n",
      "  never seen function:\n",
      "    dynamic_slice id=5134251152 defined at /Users/danfm/jax/jax/_src/dispatch.py:98\n",
      "TRACING CACHE MISS at /var/folders/rb/0cbmk8n57sl2r9hlgzpl0wxm0181x6/T/ipykernel_51078/667903597.py:2 (<module>) because:\n",
      "  for fun defined at /var/folders/rb/0cbmk8n57sl2r9hlgzpl0wxm0181x6/T/ipykernel_51078/3464009699.py:1\n",
      "  never seen input type signature:\n",
      "    x: f32[2]\n",
      "  closest seen input type signature has 1 mismatches, including:\n",
      "    * at x, seen f32[3], but now given f32[2]\n"
     ]
    }
   ],
   "source": [
    "with jax.explain_cache_misses():\n",
    "    fun(x[:-1])"
   ]
  },
  {
   "cell_type": "code",
   "execution_count": 78,
   "id": "f0d2b868-85c8-4a41-a9a1-79f8c958bbd5",
   "metadata": {},
   "outputs": [],
   "source": [
    "with jax.explain_cache_misses():\n",
    "    fun(x.astype(int))"
   ]
  },
  {
   "cell_type": "code",
   "execution_count": null,
   "id": "9af71ea3-3e45-4d4d-8ecd-41a910fe2c54",
   "metadata": {},
   "outputs": [],
   "source": []
  },
  {
   "cell_type": "code",
   "execution_count": null,
   "id": "923a9e6b-61e8-4a24-a056-5f22bd416081",
   "metadata": {},
   "outputs": [],
   "source": []
  },
  {
   "cell_type": "code",
   "execution_count": null,
   "id": "a27f4c08-11c7-4c8e-bc87-5ae36bb34d0d",
   "metadata": {},
   "outputs": [],
   "source": []
  },
  {
   "cell_type": "code",
   "execution_count": null,
   "id": "100c9d53-6d48-4411-9f53-a75e90d40dbe",
   "metadata": {},
   "outputs": [],
   "source": []
  },
  {
   "cell_type": "code",
   "execution_count": null,
   "id": "5ee43810-511f-4f81-97d8-f978a1e831d8",
   "metadata": {},
   "outputs": [],
   "source": []
  },
  {
   "cell_type": "code",
   "execution_count": 148,
   "id": "caf2a28b-b0b0-4971-becc-a86cc0a3d52f",
   "metadata": {},
   "outputs": [],
   "source": [
    "import numpy as np\n",
    "\n",
    "# @jax.jit\n",
    "def fun(x):\n",
    "    return (np.eye(x.shape[0]) + np.ones((x.shape[0], x.shape[0]))) @ x"
   ]
  },
  {
   "cell_type": "code",
   "execution_count": 149,
   "id": "c707723d-3a6c-4247-8608-a0e449c42dca",
   "metadata": {},
   "outputs": [],
   "source": [
    "# fun(x)"
   ]
  },
  {
   "cell_type": "code",
   "execution_count": 150,
   "id": "b3a40f17-0098-430b-9a2a-a44f0a2c9893",
   "metadata": {},
   "outputs": [],
   "source": [
    "# jax.make_jaxpr(fun)(x)"
   ]
  },
  {
   "cell_type": "code",
   "execution_count": 151,
   "id": "85405674-094c-4e75-bafa-c9b893802581",
   "metadata": {},
   "outputs": [
    {
     "name": "stdout",
     "output_type": "stream",
     "text": [
      "HloModule jit_fun, is_scheduled=true, entry_computation_layout={(f32[3]{0})->f32[3]{0}}, allow_spmd_sharding_propagation_to_parameters={true}, allow_spmd_sharding_propagation_to_output={true}\n",
      "\n",
      "ENTRY %main.4 (Arg_0.1: f32[3]) -> f32[3] {\n",
      "  %Arg_0.1 = f32[3]{0} parameter(0), metadata={op_name=\"x\"}\n",
      "  %constant.2 = f32[3,3]{1,0} constant({ { 2, 1, 1 }, { 1, 2, 1 }, { 1, 1, 2 } })\n",
      "  ROOT %dot.3 = f32[3]{0} dot(f32[3,3]{1,0} %constant.2, f32[3]{0} %Arg_0.1), lhs_contracting_dims={1}, rhs_contracting_dims={0}, metadata={op_name=\"jit(fun)/jit(main)/dot_general\" source_file=\"/var/folders/rb/0cbmk8n57sl2r9hlgzpl0wxm0181x6/T/ipykernel_51078/2797848076.py\" source_line=5}\n",
      "}\n",
      "\n",
      "\n"
     ]
    }
   ],
   "source": [
    "print(jax.jit(fun).lower(x).compile().as_text())"
   ]
  },
  {
   "cell_type": "code",
   "execution_count": 142,
   "id": "626f58d5-0356-44a7-a7f3-365e759d9cc7",
   "metadata": {},
   "outputs": [
    {
     "name": "stdout",
     "output_type": "stream",
     "text": [
      "HloModule jit_fun, is_scheduled=true, entry_computation_layout={(f32[3]{0})->f32[3]{0}}, allow_spmd_sharding_propagation_to_parameters={true}, allow_spmd_sharding_propagation_to_output={true}\n",
      "\n",
      "%fused_computation (param_0.1: f32[3]) -> f32[3] {\n",
      "  %iota.3 = s32[3,3]{1,0} iota(), iota_dimension=0, metadata={op_name=\"jit(fun)/jit(main)/iota\" source_file=\"/var/folders/rb/0cbmk8n57sl2r9hlgzpl0wxm0181x6/T/ipykernel_51078/266758819.py\" source_line=5}\n",
      "  %iota.2 = s32[3,3]{1,0} iota(), iota_dimension=1, metadata={op_name=\"jit(fun)/jit(main)/iota\" source_file=\"/var/folders/rb/0cbmk8n57sl2r9hlgzpl0wxm0181x6/T/ipykernel_51078/266758819.py\" source_line=5}\n",
      "  %compare.0 = pred[3,3]{1,0} compare(s32[3,3]{1,0} %iota.3, s32[3,3]{1,0} %iota.2), direction=EQ, metadata={op_name=\"jit(fun)/jit(main)/eq\" source_file=\"/var/folders/rb/0cbmk8n57sl2r9hlgzpl0wxm0181x6/T/ipykernel_51078/266758819.py\" source_line=5}\n",
      "  %convert.0 = f32[3,3]{1,0} convert(pred[3,3]{1,0} %compare.0), metadata={op_name=\"jit(fun)/jit(main)/convert_element_type\" source_file=\"/var/folders/rb/0cbmk8n57sl2r9hlgzpl0wxm0181x6/T/ipykernel_51078/266758819.py\" source_line=5}\n",
      "  %constant.0 = f32[] constant(1)\n",
      "  %broadcast.0 = f32[3,3]{1,0} broadcast(f32[] %constant.0), dimensions={}\n",
      "  %add.0 = f32[3,3]{1,0} add(f32[3,3]{1,0} %convert.0, f32[3,3]{1,0} %broadcast.0), metadata={op_name=\"jit(fun)/jit(main)/add\" source_file=\"/var/folders/rb/0cbmk8n57sl2r9hlgzpl0wxm0181x6/T/ipykernel_51078/266758819.py\" source_line=5}\n",
      "  %param_0.1 = f32[3]{0} parameter(0)\n",
      "  ROOT %dot.0 = f32[3]{0} dot(f32[3,3]{1,0} %add.0, f32[3]{0} %param_0.1), lhs_contracting_dims={1}, rhs_contracting_dims={0}, metadata={op_name=\"jit(fun)/jit(main)/dot_general\" source_file=\"/var/folders/rb/0cbmk8n57sl2r9hlgzpl0wxm0181x6/T/ipykernel_51078/266758819.py\" source_line=5}\n",
      "}\n",
      "\n",
      "ENTRY %main.12 (Arg_0.1: f32[3]) -> f32[3] {\n",
      "  %Arg_0.1 = f32[3]{0} parameter(0), metadata={op_name=\"x\"}\n",
      "  ROOT %add_dot_fusion = f32[3]{0} fusion(f32[3]{0} %Arg_0.1), kind=kLoop, calls=%fused_computation, metadata={op_name=\"jit(fun)/jit(main)/dot_general\" source_file=\"/var/folders/rb/0cbmk8n57sl2r9hlgzpl0wxm0181x6/T/ipykernel_51078/266758819.py\" source_line=5}\n",
      "}\n",
      "\n",
      "\n"
     ]
    }
   ],
   "source": [
    "print(jax.jit(fun).lower(x).compile().as_text())"
   ]
  },
  {
   "cell_type": "code",
   "execution_count": null,
   "id": "0cc4c1ba-ec38-4472-b7e1-5a52ba8dd8a5",
   "metadata": {},
   "outputs": [],
   "source": []
  },
  {
   "cell_type": "code",
   "execution_count": null,
   "id": "2952332d-4a2a-43c3-ad4f-4729548baf7c",
   "metadata": {},
   "outputs": [],
   "source": []
  },
  {
   "cell_type": "code",
   "execution_count": null,
   "id": "a73cceac-f6ff-4675-a31f-f0d9db525e9c",
   "metadata": {},
   "outputs": [],
   "source": []
  },
  {
   "cell_type": "code",
   "execution_count": 106,
   "id": "4e9b741a-e798-4781-b060-e147277b9e59",
   "metadata": {},
   "outputs": [
    {
     "data": {
      "text/plain": [
       "array([[1., 0., 0., 0.],\n",
       "       [0., 1., 0., 0.],\n",
       "       [0., 0., 1., 0.],\n",
       "       [0., 0., 0., 1.]])"
      ]
     },
     "execution_count": 106,
     "metadata": {},
     "output_type": "execute_result"
    }
   ],
   "source": [
    "np.eye(4)"
   ]
  },
  {
   "cell_type": "code",
   "execution_count": null,
   "id": "6ab2ab79-559b-4a66-85f0-a70156348095",
   "metadata": {},
   "outputs": [],
   "source": []
  }
 ],
 "metadata": {
  "kernelspec": {
   "display_name": "Python 3 (ipykernel)",
   "language": "python",
   "name": "python3"
  },
  "language_info": {
   "codemirror_mode": {
    "name": "ipython",
    "version": 3
   },
   "file_extension": ".py",
   "mimetype": "text/x-python",
   "name": "python",
   "nbconvert_exporter": "python",
   "pygments_lexer": "ipython3",
   "version": "3.10.14"
  }
 },
 "nbformat": 4,
 "nbformat_minor": 5
}
