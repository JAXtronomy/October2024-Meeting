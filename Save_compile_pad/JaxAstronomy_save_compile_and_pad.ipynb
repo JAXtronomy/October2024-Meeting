{
  "cells": [
    {
      "cell_type": "markdown",
      "metadata": {
        "colab_type": "text",
        "id": "view-in-github"
      },
      "source": [
        "<a href=\"https://colab.research.google.com/github/nevencaplar/JaxPeriodDrwFit/blob/main/JaxAstronomy_save_compile_and_pad.ipynb\" target=\"_parent\"><img src=\"https://colab.research.google.com/assets/colab-badge.svg\" alt=\"Open In Colab\"/></a>"
      ]
    },
    {
      "cell_type": "code",
      "execution_count": null,
      "metadata": {
        "colab": {
          "base_uri": "https://localhost:8080/"
        },
        "id": "34kctSo7JVQs",
        "outputId": "dcf85cd2-8024-4369-b14f-9b981f5c2519"
      },
      "outputs": [
        {
          "name": "stderr",
          "output_type": "stream",
          "text": [
            "DEBUG:root:test\n"
          ]
        },
        {
          "name": "stdout",
          "output_type": "stream",
          "text": [
            "cpu/gpu: cpu\n"
          ]
        }
      ],
      "source": [
        "# Jax imports\n",
        "import jax\n",
        "import jax.numpy as jnp\n",
        "from jax import jit\n",
        "from jax import export\n",
        "from jax._src import compilation_cache as cc\n",
        "from jax._src.lib import xla_client\n",
        "\n",
        "import numpy as np\n",
        "import timeit\n",
        "import pickle\n",
        "from pathlib import Path\n",
        "import logging\n",
        "\n",
        "# print if you are using cpu or gpu\n",
        "print(\"cpu/gpu: \" + str(jax.default_backend()))\n",
        "\n",
        "# cache options\n",
        "cc.set_cache_dir(\"./cache_min_example\")\n",
        "jax.config.update(\"jax_persistent_cache_min_entry_size_bytes\", -1)\n",
        "jax.config.update(\"jax_persistent_cache_min_compile_time_secs\", 0)\n",
        "jax.config.update(\"jax_explain_cache_misses\", True)\n",
        "\n",
        "# logging options\n",
        "logger = logging.getLogger()\n",
        "logger.setLevel(logging.DEBUG)\n",
        "logging.debug(\"test\")\n",
        "\n",
        "jax.__version__"
      ]
    },
    {
      "cell_type": "code",
      "execution_count": null,
      "metadata": {
        "id": "I8BPiyRxNiVd"
      },
      "outputs": [],
      "source": [
        "# has to be True for be able to cache\n",
        "getattr(xla_client.Client, \"supports_executable_serialization\", True)"
      ]
    },
    {
      "cell_type": "markdown",
      "metadata": {},
      "source": [
        "**Simple Test function**"
      ]
    },
    {
      "cell_type": "code",
      "execution_count": null,
      "metadata": {
        "id": "HYRx1YXxJs01"
      },
      "outputs": [],
      "source": [
        "# test function, just for fun\n",
        "# repeat 20 times so that it takes some time\n",
        "@jax.jit\n",
        "def test_fun(z):\n",
        "  def fn(y):\n",
        "    y -= jax.nn.logsumexp(y,0)\n",
        "    y -= jax.nn.logsumexp(y,1)\n",
        "    return y\n",
        "  for _ in range(20): z = fn(z)\n",
        "  return z"
      ]
    },
    {
      "cell_type": "code",
      "execution_count": null,
      "metadata": {
        "colab": {
          "base_uri": "https://localhost:8080/"
        },
        "id": "bbjgLRflJv1f",
        "outputId": "d6b775e4-e121-44d8-890c-0f5baee2352b"
      },
      "outputs": [],
      "source": [
        "# https://jax.readthedocs.io/en/latest/_autosummary/jax.random.gumbel.html\n",
        "# run on randomly generated data\n",
        "a = jax.random.gumbel(jax.random.PRNGKey(0),(100,100))"
      ]
    },
    {
      "cell_type": "code",
      "execution_count": null,
      "metadata": {
        "colab": {
          "base_uri": "https://localhost:8080/"
        },
        "id": "wqZAt0HtJ1v2",
        "outputId": "c1da89c1-faa5-47e7-83d9-f0b31bb6ed29"
      },
      "outputs": [],
      "source": [
        "%%time\n",
        "# first time slow (due to compile)\n",
        "_ = test_fun(a)"
      ]
    },
    {
      "cell_type": "markdown",
      "metadata": {},
      "source": [
        "%%time\n",
        "# second time fast (due to compile)\n",
        "_ = test_fun(a)"
      ]
    },
    {
      "cell_type": "markdown",
      "metadata": {},
      "source": [
        "**More complex**"
      ]
    },
    {
      "cell_type": "code",
      "execution_count": null,
      "metadata": {
        "colab": {
          "base_uri": "https://localhost:8080/",
          "height": 436
        },
        "id": "4NT6cH70J3oW",
        "outputId": "177a7002-aefd-4b70-e8ef-2f0e2e8f16fc"
      },
      "outputs": [],
      "source": [
        "\n",
        "def complex_kernel(arr):\n",
        "    multiplier = 2.5\n",
        "    # Element-wise multiplication\n",
        "    arr = arr * multiplier\n",
        "\n",
        "    # Apply sine transformation\n",
        "    arr = jnp.sin(arr)\n",
        "\n",
        "    # Normalize the array to mean 0 and standard deviation 1\n",
        "    mean = jnp.mean(arr)\n",
        "    std_dev = jnp.std(arr)\n",
        "\n",
        "    for _ in range(100):\n",
        "      _ = (arr - mean) / std_dev\n",
        "\n",
        "    arr = (arr - mean) / std_dev\n",
        "\n",
        "    return arr\n",
        "\n",
        "# Test the complex kernel on GPU with varying input lengths\n",
        "def test_complex_kernel():\n",
        "    # Different lengths to test\n",
        "    array_lengths = [10, 100, 1000, 10000]\n",
        "    evaluations = 10  # Number of evaluations for each array length\n",
        "\n",
        "    for length in array_lengths:\n",
        "        # Generate a random 1D array of the given length\n",
        "        arr = jnp.array(np.random.randn(length), dtype=jnp.float32)\n",
        "\n",
        "        out_file_name = f'test_array_size_{length}.pkl'\n",
        "\n",
        "        if Path(out_file_name).exists():\n",
        "          with open(out_file_name, 'rb') as f:\n",
        "            serialized = pickle.load(f)\n",
        "        else:\n",
        "          exported = export.export(jax.jit(complex_kernel))(\n",
        "              jax.ShapeDtypeStruct((), jax.ShapedArray(np.float32, shape=length)))\n",
        "          serialized = exported.serialize()\n",
        "\n",
        "          if not Path(out_file_name).exists():\n",
        "            with open(out_file_name, 'wb') as f:\n",
        "                pickle.dump(serialized, f)\n",
        "\n",
        "        rehydrated_exp = export.deserialize(serialized)\n",
        "\n",
        "        # Define a wrapper for the timeit function\n",
        "        def kernel_evaluation():\n",
        "            # return complex_kernel(arr).block_until_ready()  # Ensure GPU sync for timing\n",
        "            return rehydrated_exp.call(arr).block_until_ready()  # Ensure GPU sync for timing\n",
        "\n",
        "        first_iteration_time = timeit.timeit(kernel_evaluation, number=1)\n",
        "\n",
        "        remaining_time = timeit.timeit(kernel_evaluation, number=evaluations - 1)\n",
        "        avg_remaining_time = remaining_time / (evaluations - 1)\n",
        "        total_time = first_iteration_time + remaining_time\n",
        "\n",
        "        # Print timing results\n",
        "        print(f\"Array Length: {length}\")\n",
        "        print(f\"Total time for {evaluations} evaluations: {total_time:f} seconds\")\n",
        "        print(f\"Time for first compilation: {first_iteration_time}\")\n",
        "        print(f\"Average time for remaining evaluation: {avg_remaining_time:f} seconds\\n\")\n",
        "\n",
        "# Run the test case\n",
        "test_complex_kernel()\n"
      ]
    }
  ],
  "metadata": {
    "colab": {
      "include_colab_link": true,
      "provenance": []
    },
    "kernelspec": {
      "display_name": "Python 3",
      "name": "python3"
    },
    "language_info": {
      "name": "python"
    }
  },
  "nbformat": 4,
  "nbformat_minor": 0
}
