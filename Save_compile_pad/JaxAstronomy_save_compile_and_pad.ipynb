{
  "nbformat": 4,
  "nbformat_minor": 0,
  "metadata": {
    "colab": {
      "provenance": [],
      "include_colab_link": true
    },
    "kernelspec": {
      "name": "python3",
      "display_name": "Python 3"
    },
    "language_info": {
      "name": "python"
    }
  },
  "cells": [
    {
      "cell_type": "markdown",
      "metadata": {
        "id": "view-in-github",
        "colab_type": "text"
      },
      "source": [
        "<a href=\"https://colab.research.google.com/github/nevencaplar/JaxPeriodDrwFit/blob/main/JaxAstronomy_save_compile_and_pad.ipynb\" target=\"_parent\"><img src=\"https://colab.research.google.com/assets/colab-badge.svg\" alt=\"Open In Colab\"/></a>"
      ]
    },
    {
      "cell_type": "code",
      "execution_count": null,
      "metadata": {
        "colab": {
          "base_uri": "https://localhost:8080/"
        },
        "id": "34kctSo7JVQs",
        "outputId": "dcf85cd2-8024-4369-b14f-9b981f5c2519"
      },
      "outputs": [
        {
          "output_type": "stream",
          "name": "stderr",
          "text": [
            "DEBUG:root:test\n"
          ]
        },
        {
          "output_type": "stream",
          "name": "stdout",
          "text": [
            "cpu/gpu: cpu\n"
          ]
        }
      ],
      "source": [
        "import jax\n",
        "import jax.numpy as jnp\n",
        "\n",
        "\n",
        "\n",
        "import logging\n",
        "\n",
        "\n",
        "from jax._src import compilation_cache as cc\n",
        "\n",
        "print(\"cpu/gpu: \" + str(jax.default_backend()))\n",
        "cc.set_cache_dir(\"./cache_min_example\")\n",
        "jax.config.update(\"jax_persistent_cache_min_entry_size_bytes\", -1)\n",
        "jax.config.update(\"jax_persistent_cache_min_compile_time_secs\", 0)\n",
        "jax.config.update(\"jax_explain_cache_misses\", True)\n",
        "\n",
        "\n",
        "logger = logging.getLogger()\n",
        "logger.setLevel(logging.DEBUG)\n",
        "logging.debug(\"test\")"
      ]
    },
    {
      "cell_type": "code",
      "source": [],
      "metadata": {
        "id": "I8BPiyRxNiVd"
      },
      "execution_count": null,
      "outputs": []
    },
    {
      "cell_type": "code",
      "source": [
        "# test function, just\n",
        "@jax.jit\n",
        "def test_fun(z):\n",
        "  def fn(y):\n",
        "    y -= jax.nn.logsumexp(y,0)\n",
        "    y -= jax.nn.logsumexp(y,1)\n",
        "    return y\n",
        "  for _ in range(20): z = fn(z)\n",
        "  return z"
      ],
      "metadata": {
        "id": "HYRx1YXxJs01"
      },
      "execution_count": null,
      "outputs": []
    },
    {
      "cell_type": "code",
      "source": [
        "# https://jax.readthedocs.io/en/latest/_autosummary/jax.random.gumbel.html\n",
        "a = jax.random.gumbel(jax.random.PRNGKey(0),(100,100))"
      ],
      "metadata": {
        "id": "bbjgLRflJv1f",
        "colab": {
          "base_uri": "https://localhost:8080/"
        },
        "outputId": "d6b775e4-e121-44d8-890c-0f5baee2352b"
      },
      "execution_count": null,
      "outputs": [
        {
          "output_type": "stream",
          "name": "stderr",
          "text": [
            "DEBUG:jax._src.dispatch:Finished tracing + transforming convert_element_type for pjit in 0.001432657 sec\n",
            "WARNING:jax._src.pjit:TRACING CACHE MISS at <ipython-input-3-0accf99dc634>:2 (<cell line: 2>) because:\n",
            "  never seen function:\n",
            "    convert_element_type id=133816218245088 defined at /usr/local/lib/python3.10/dist-packages/jax/_src/dispatch.py:95\n",
            "DEBUG:jax._src.interpreters.pxla:Compiling convert_element_type with global shapes and types [ShapedArray(int32[])]. Argument mapping: (UnspecifiedValue,).\n",
            "DEBUG:jax._src.dispatch:Finished jaxpr to MLIR module conversion jit(convert_element_type) in 0.031832933 sec\n",
            "DEBUG:jax._src.compiler:get_compile_options: num_replicas=1 num_partitions=1 device_assignment=[[CpuDevice(id=0)]]\n",
            "DEBUG:jax._src.compiler:get_compile_options XLA-AutoFDO profile: using XLA-AutoFDO profile version -1\n",
            "DEBUG:jax._src.cache_key:get_cache_key hash of serialized computation: 4dc58c9b9b531cb92397bd6fc39852b8acae9947ab09fea8f0726ce246352480\n",
            "DEBUG:jax._src.cache_key:get_cache_key hash after serializing computation: 4dc58c9b9b531cb92397bd6fc39852b8acae9947ab09fea8f0726ce246352480\n",
            "DEBUG:jax._src.cache_key:get_cache_key hash of serialized jax_lib version: 773bdc3a672da6eef8f8860bb8b0156b2b8045190b0ee7bcf75aca4cb371cbcf\n",
            "DEBUG:jax._src.cache_key:get_cache_key hash after serializing jax_lib version: 22f221286083605d6c3c2fda7b230071fec6f49ebe87d95e6e6f788823155415\n",
            "DEBUG:jax._src.cache_key:get_cache_key hash of serialized XLA flags: e3b0c44298fc1c149afbf4c8996fb92427ae41e4649b934ca495991b7852b855\n",
            "DEBUG:jax._src.cache_key:get_cache_key hash after serializing XLA flags: 22f221286083605d6c3c2fda7b230071fec6f49ebe87d95e6e6f788823155415\n",
            "DEBUG:jax._src.cache_key:get_cache_key hash of serialized compile_options: 41963204f87c5e52465c126a841040a92dde0c37a32fe99af9997a72ea42132d\n",
            "DEBUG:jax._src.cache_key:get_cache_key hash after serializing compile_options: 9e5df1724d22177f7f8fc049890ef58bddcc10cfaba63f3d85f99848d1d24fa8\n",
            "DEBUG:jax._src.cache_key:get_cache_key hash of serialized accelerator_config: 4473da30a6dec28748941ac40a5185dca974867d93e7a83e4b6e2085629e0ead\n",
            "DEBUG:jax._src.cache_key:get_cache_key hash after serializing accelerator_config: 8e98af7965d179c2e3230023c3cf66fd640d1b5c5d5252a4db84d3b38fade21f\n",
            "DEBUG:jax._src.cache_key:get_cache_key hash of serialized compression: 0ea55c28f8014d8886b6248fe3da5d588f55c0823847a6b4579f1131b051b5e2\n",
            "DEBUG:jax._src.cache_key:get_cache_key hash after serializing compression: 67013bd355aabe8c565a3f3bed465448746f0e04069a1d3951a0bf95b273fcd6\n",
            "DEBUG:jax._src.cache_key:get_cache_key hash of serialized custom_hook: e3b0c44298fc1c149afbf4c8996fb92427ae41e4649b934ca495991b7852b855\n",
            "DEBUG:jax._src.cache_key:get_cache_key hash after serializing custom_hook: 67013bd355aabe8c565a3f3bed465448746f0e04069a1d3951a0bf95b273fcd6\n",
            "DEBUG:jax._src.compilation_cache:Initialized persistent compilation cache at ./cache_min_example\n",
            "DEBUG:jax._src.lru_cache:Cache hit for key: 'jit_convert_element_type-67013bd355aabe8c565a3f3bed465448746f0e04069a1d3951a0bf95b273fcd6'\n",
            "DEBUG:jax._src.compiler:Persistent compilation cache hit for 'jit_convert_element_type' with key 'jit_convert_element_type-67013bd355aabe8c565a3f3bed465448746f0e04069a1d3951a0bf95b273fcd6'\n",
            "DEBUG:jax._src.dispatch:Finished XLA compilation of jit(convert_element_type) in 0.131578207 sec\n",
            "DEBUG:jax._src.dispatch:Finished tracing + transforming _bitwise_and for pjit in 0.001192570 sec\n",
            "DEBUG:jax._src.dispatch:Finished tracing + transforming _threefry_seed for pjit in 0.010060072 sec\n",
            "DEBUG:jax._src.interpreters.pxla:Compiling _threefry_seed with global shapes and types [ShapedArray(int32[])]. Argument mapping: (UnspecifiedValue,).\n",
            "DEBUG:jax._src.dispatch:Finished jaxpr to MLIR module conversion jit(_threefry_seed) in 0.009650230 sec\n",
            "DEBUG:jax._src.compiler:get_compile_options: num_replicas=1 num_partitions=1 device_assignment=[[CpuDevice(id=0)]]\n",
            "DEBUG:jax._src.compiler:get_compile_options XLA-AutoFDO profile: using XLA-AutoFDO profile version -1\n",
            "DEBUG:jax._src.cache_key:get_cache_key hash of serialized computation: b94f283f92e6eed1a1fc7627d21748b51893fdfd265eea22dd2d3178ebc2b329\n",
            "DEBUG:jax._src.cache_key:get_cache_key hash after serializing computation: b94f283f92e6eed1a1fc7627d21748b51893fdfd265eea22dd2d3178ebc2b329\n",
            "DEBUG:jax._src.cache_key:get_cache_key hash of serialized jax_lib version: 773bdc3a672da6eef8f8860bb8b0156b2b8045190b0ee7bcf75aca4cb371cbcf\n",
            "DEBUG:jax._src.cache_key:get_cache_key hash after serializing jax_lib version: 21bd175170c47a4596ac47422e28e4261fc0ee1feb05a84dd7907e9c457e05a7\n",
            "DEBUG:jax._src.cache_key:get_cache_key hash of serialized XLA flags: e3b0c44298fc1c149afbf4c8996fb92427ae41e4649b934ca495991b7852b855\n",
            "DEBUG:jax._src.cache_key:get_cache_key hash after serializing XLA flags: 21bd175170c47a4596ac47422e28e4261fc0ee1feb05a84dd7907e9c457e05a7\n",
            "DEBUG:jax._src.cache_key:get_cache_key hash of serialized compile_options: d1fe647a71fe6af8fe24632620b27ee089285b2b09efbfbddfa164cd1f58e6db\n",
            "DEBUG:jax._src.cache_key:get_cache_key hash after serializing compile_options: a66423ca8b5392a738646409ed7665b803eb2100bb99ce8e1f2f206f352c04f1\n",
            "DEBUG:jax._src.cache_key:get_cache_key hash of serialized accelerator_config: 4473da30a6dec28748941ac40a5185dca974867d93e7a83e4b6e2085629e0ead\n",
            "DEBUG:jax._src.cache_key:get_cache_key hash after serializing accelerator_config: 0ddceecbe1f45e9d6d09b6e57074dd19e924aede16e3584601ecb6db9c10015b\n",
            "DEBUG:jax._src.cache_key:get_cache_key hash of serialized compression: 0ea55c28f8014d8886b6248fe3da5d588f55c0823847a6b4579f1131b051b5e2\n",
            "DEBUG:jax._src.cache_key:get_cache_key hash after serializing compression: 4b6a1989f16b00c933dd84ff4d89aa7750e70c3a05a81d92f6ea4008fb75e2fc\n",
            "DEBUG:jax._src.cache_key:get_cache_key hash of serialized custom_hook: e3b0c44298fc1c149afbf4c8996fb92427ae41e4649b934ca495991b7852b855\n",
            "DEBUG:jax._src.cache_key:get_cache_key hash after serializing custom_hook: 4b6a1989f16b00c933dd84ff4d89aa7750e70c3a05a81d92f6ea4008fb75e2fc\n",
            "DEBUG:jax._src.lru_cache:Cache hit for key: 'jit__threefry_seed-4b6a1989f16b00c933dd84ff4d89aa7750e70c3a05a81d92f6ea4008fb75e2fc'\n",
            "DEBUG:jax._src.compiler:Persistent compilation cache hit for 'jit__threefry_seed' with key 'jit__threefry_seed-4b6a1989f16b00c933dd84ff4d89aa7750e70c3a05a81d92f6ea4008fb75e2fc'\n",
            "DEBUG:jax._src.dispatch:Finished XLA compilation of jit(_threefry_seed) in 0.047863007 sec\n",
            "DEBUG:jax._src.dispatch:Finished tracing + transforming subtract for pjit in 0.004616976 sec\n",
            "DEBUG:jax._src.dispatch:Finished tracing + transforming subtract for pjit in 0.002049685 sec\n",
            "DEBUG:jax._src.dispatch:Finished tracing + transforming _multiply for pjit in 0.001147509 sec\n",
            "DEBUG:jax._src.dispatch:Finished tracing + transforming _add for pjit in 0.002301931 sec\n",
            "DEBUG:jax._src.dispatch:Finished tracing + transforming _uniform for pjit in 0.068193197 sec\n",
            "WARNING:jax._src.pjit:TRACING CACHE MISS at <ipython-input-3-0accf99dc634>:2 (<cell line: 2>) because:\n",
            "  never seen function:\n",
            "    _uniform id=133816217406192 defined at /usr/local/lib/python3.10/dist-packages/jax/_src/random.py:405\n",
            "  but seen another function defined on the same line; maybe the function is\n",
            "  being re-defined repeatedly, preventing caching?\n",
            "DEBUG:jax._src.dispatch:Finished tracing + transforming log for pjit in 0.001262665 sec\n",
            "DEBUG:jax._src.dispatch:Finished tracing + transforming negative for pjit in 0.000961542 sec\n",
            "DEBUG:jax._src.dispatch:Finished tracing + transforming _gumbel for pjit in 0.103382111 sec\n",
            "WARNING:jax._src.pjit:TRACING CACHE MISS at <ipython-input-3-0accf99dc634>:2 (<cell line: 2>) because:\n",
            "  never seen function:\n",
            "    _gumbel id=133816217511984 defined at /usr/local/lib/python3.10/dist-packages/jax/_src/random.py:1520\n",
            "  but seen another function defined on the same line; maybe the function is\n",
            "  being re-defined repeatedly, preventing caching?\n",
            "DEBUG:jax._src.interpreters.pxla:Compiling _gumbel with global shapes and types [ShapedArray(key<fry>[])]. Argument mapping: (UnspecifiedValue,).\n",
            "DEBUG:jax._src.dispatch:Finished tracing + transforming ravel for pjit in 0.000730991 sec\n",
            "DEBUG:jax._src.dispatch:Finished tracing + transforming threefry_2x32 for pjit in 0.011714220 sec\n",
            "DEBUG:jax._src.dispatch:Finished tracing + transforming _threefry_random_bits_original for pjit in 0.021557331 sec\n",
            "DEBUG:jax._src.dispatch:Finished tracing + transforming _bitwise_xor for pjit in 0.000888586 sec\n",
            "DEBUG:jax._src.dispatch:Finished tracing + transforming _add for pjit in 0.001016855 sec\n",
            "DEBUG:jax._src.dispatch:Finished tracing + transforming _add for pjit in 0.001510859 sec\n",
            "DEBUG:jax._src.dispatch:Finished tracing + transforming _add for pjit in 0.001060963 sec\n",
            "DEBUG:jax._src.dispatch:Finished tracing + transforming subtract for pjit in 0.000850916 sec\n",
            "DEBUG:jax._src.dispatch:Finished tracing + transforming _bitwise_or for pjit in 0.000925303 sec\n",
            "DEBUG:jax._src.dispatch:Finished tracing + transforming _bitwise_xor for pjit in 0.000915766 sec\n",
            "DEBUG:jax._src.dispatch:Finished tracing + transforming less for pjit in 0.000864506 sec\n",
            "DEBUG:jax._src.dispatch:Finished tracing + transforming _add for pjit in 0.000852108 sec\n",
            "DEBUG:jax._src.dispatch:Finished jaxpr to MLIR module conversion jit(_gumbel) in 0.150212288 sec\n",
            "DEBUG:jax._src.compiler:get_compile_options: num_replicas=1 num_partitions=1 device_assignment=[[CpuDevice(id=0)]]\n",
            "DEBUG:jax._src.compiler:get_compile_options XLA-AutoFDO profile: using XLA-AutoFDO profile version -1\n",
            "DEBUG:jax._src.cache_key:get_cache_key hash of serialized computation: 6118a872cf9219ffbc1512605049ec8aee8bcbfaecda64ad49ed6ea2a5be148f\n",
            "DEBUG:jax._src.cache_key:get_cache_key hash after serializing computation: 6118a872cf9219ffbc1512605049ec8aee8bcbfaecda64ad49ed6ea2a5be148f\n",
            "DEBUG:jax._src.cache_key:get_cache_key hash of serialized jax_lib version: 773bdc3a672da6eef8f8860bb8b0156b2b8045190b0ee7bcf75aca4cb371cbcf\n",
            "DEBUG:jax._src.cache_key:get_cache_key hash after serializing jax_lib version: b7781dd742c48753f2e920670fa4d71f8558c7f6075de5cd448aa71a9e28e46f\n",
            "DEBUG:jax._src.cache_key:get_cache_key hash of serialized XLA flags: e3b0c44298fc1c149afbf4c8996fb92427ae41e4649b934ca495991b7852b855\n",
            "DEBUG:jax._src.cache_key:get_cache_key hash after serializing XLA flags: b7781dd742c48753f2e920670fa4d71f8558c7f6075de5cd448aa71a9e28e46f\n",
            "DEBUG:jax._src.cache_key:get_cache_key hash of serialized compile_options: d1fe647a71fe6af8fe24632620b27ee089285b2b09efbfbddfa164cd1f58e6db\n",
            "DEBUG:jax._src.cache_key:get_cache_key hash after serializing compile_options: a0f6a76275ef63a390f9349ca9dcfa8ec34ca798ff76ed2393a8551a304b1076\n",
            "DEBUG:jax._src.cache_key:get_cache_key hash of serialized accelerator_config: 4473da30a6dec28748941ac40a5185dca974867d93e7a83e4b6e2085629e0ead\n",
            "DEBUG:jax._src.cache_key:get_cache_key hash after serializing accelerator_config: 2fe6cbbc1f194bfc0a5c48be057f71529d0a73e868af468ec91a4ec1432e9fa6\n",
            "DEBUG:jax._src.cache_key:get_cache_key hash of serialized compression: 0ea55c28f8014d8886b6248fe3da5d588f55c0823847a6b4579f1131b051b5e2\n",
            "DEBUG:jax._src.cache_key:get_cache_key hash after serializing compression: 0b95662bb3b581a613651678c279ac11801dc843be5bec486a6ce02f8d2d1886\n",
            "DEBUG:jax._src.cache_key:get_cache_key hash of serialized custom_hook: e3b0c44298fc1c149afbf4c8996fb92427ae41e4649b934ca495991b7852b855\n",
            "DEBUG:jax._src.cache_key:get_cache_key hash after serializing custom_hook: 0b95662bb3b581a613651678c279ac11801dc843be5bec486a6ce02f8d2d1886\n",
            "DEBUG:jax._src.lru_cache:Cache hit for key: 'jit__gumbel-0b95662bb3b581a613651678c279ac11801dc843be5bec486a6ce02f8d2d1886'\n",
            "DEBUG:jax._src.compiler:Persistent compilation cache hit for 'jit__gumbel' with key 'jit__gumbel-0b95662bb3b581a613651678c279ac11801dc843be5bec486a6ce02f8d2d1886'\n",
            "DEBUG:jax._src.dispatch:Finished XLA compilation of jit(_gumbel) in 0.087268114 sec\n"
          ]
        }
      ]
    },
    {
      "cell_type": "code",
      "source": [
        "%%time\n",
        "# first time slow (due to compile)\n",
        "_ = test_fun(a)"
      ],
      "metadata": {
        "colab": {
          "base_uri": "https://localhost:8080/"
        },
        "id": "wqZAt0HtJ1v2",
        "outputId": "c1da89c1-faa5-47e7-83d9-f0b31bb6ed29"
      },
      "execution_count": null,
      "outputs": [
        {
          "output_type": "stream",
          "name": "stderr",
          "text": [
            "DEBUG:jax._src.dispatch:Finished tracing + transforming real for pjit in 0.000720024 sec\n",
            "DEBUG:jax._src.dispatch:Finished tracing + transforming _reduce_max for pjit in 0.001995087 sec\n",
            "DEBUG:jax._src.dispatch:Finished tracing + transforming isfinite for pjit in 0.001385689 sec\n",
            "DEBUG:jax._src.dispatch:Finished tracing + transforming _reduce_sum for pjit in 0.001323462 sec\n",
            "DEBUG:jax._src.dispatch:Finished tracing + transforming absolute for pjit in 0.000793457 sec\n",
            "DEBUG:jax._src.dispatch:Finished tracing + transforming abs for pjit in 0.008253098 sec\n",
            "DEBUG:jax._src.dispatch:Finished tracing + transforming subtract for pjit in 0.003425121 sec\n",
            "DEBUG:jax._src.dispatch:Finished tracing + transforming _reduce_max for pjit in 0.003085613 sec\n",
            "DEBUG:jax._src.dispatch:Finished tracing + transforming _reduce_sum for pjit in 0.002260447 sec\n",
            "DEBUG:jax._src.dispatch:Finished tracing + transforming test_fun for pjit in 0.340641260 sec\n",
            "WARNING:jax._src.pjit:TRACING CACHE MISS at <timed exec>:2 (<module>) because:\n",
            "  never seen function:\n",
            "    test_fun id=133816218246384 defined at <ipython-input-2-ffed7e666108>:2\n",
            "DEBUG:jax._src.interpreters.pxla:Compiling test_fun with global shapes and types [ShapedArray(float32[100,100])]. Argument mapping: (UnspecifiedValue,).\n",
            "DEBUG:jax._src.dispatch:Finished jaxpr to MLIR module conversion jit(test_fun) in 0.268300295 sec\n",
            "DEBUG:jax._src.compiler:get_compile_options: num_replicas=1 num_partitions=1 device_assignment=[[CpuDevice(id=0)]]\n",
            "DEBUG:jax._src.compiler:get_compile_options XLA-AutoFDO profile: using XLA-AutoFDO profile version -1\n",
            "DEBUG:jax._src.cache_key:get_cache_key hash of serialized computation: bbce35889d03f765894a899f1ad9c52e29e40f8cf79a5477ed6f309e8e5a8560\n",
            "DEBUG:jax._src.cache_key:get_cache_key hash after serializing computation: bbce35889d03f765894a899f1ad9c52e29e40f8cf79a5477ed6f309e8e5a8560\n",
            "DEBUG:jax._src.cache_key:get_cache_key hash of serialized jax_lib version: 773bdc3a672da6eef8f8860bb8b0156b2b8045190b0ee7bcf75aca4cb371cbcf\n",
            "DEBUG:jax._src.cache_key:get_cache_key hash after serializing jax_lib version: 4a1ead83f73dc0d08d8e33bef6208ff8443b4fef6373d5dd0dd9e8404966551d\n",
            "DEBUG:jax._src.cache_key:get_cache_key hash of serialized XLA flags: e3b0c44298fc1c149afbf4c8996fb92427ae41e4649b934ca495991b7852b855\n",
            "DEBUG:jax._src.cache_key:get_cache_key hash after serializing XLA flags: 4a1ead83f73dc0d08d8e33bef6208ff8443b4fef6373d5dd0dd9e8404966551d\n",
            "DEBUG:jax._src.cache_key:get_cache_key hash of serialized compile_options: d1fe647a71fe6af8fe24632620b27ee089285b2b09efbfbddfa164cd1f58e6db\n",
            "DEBUG:jax._src.cache_key:get_cache_key hash after serializing compile_options: b9f679e379f29bcc0169734624fd4d3e0a54e90ec4099c04f94911c3e512f63e\n",
            "DEBUG:jax._src.cache_key:get_cache_key hash of serialized accelerator_config: 4473da30a6dec28748941ac40a5185dca974867d93e7a83e4b6e2085629e0ead\n",
            "DEBUG:jax._src.cache_key:get_cache_key hash after serializing accelerator_config: 63c9bc528ef1af2ed3ab09bd755e276aa5213ecd06604a0e80bdf0c18a3c5d4a\n",
            "DEBUG:jax._src.cache_key:get_cache_key hash of serialized compression: 0ea55c28f8014d8886b6248fe3da5d588f55c0823847a6b4579f1131b051b5e2\n",
            "DEBUG:jax._src.cache_key:get_cache_key hash after serializing compression: 524a58a1ab8ec4c39d6fdc46a13495aa085ce462e7d17dcb08af870b6e76b0f8\n",
            "DEBUG:jax._src.cache_key:get_cache_key hash of serialized custom_hook: e3b0c44298fc1c149afbf4c8996fb92427ae41e4649b934ca495991b7852b855\n",
            "DEBUG:jax._src.cache_key:get_cache_key hash after serializing custom_hook: 524a58a1ab8ec4c39d6fdc46a13495aa085ce462e7d17dcb08af870b6e76b0f8\n",
            "DEBUG:jax._src.lru_cache:Cache hit for key: 'jit_test_fun-524a58a1ab8ec4c39d6fdc46a13495aa085ce462e7d17dcb08af870b6e76b0f8'\n",
            "DEBUG:jax._src.compiler:Persistent compilation cache hit for 'jit_test_fun' with key 'jit_test_fun-524a58a1ab8ec4c39d6fdc46a13495aa085ce462e7d17dcb08af870b6e76b0f8'\n",
            "DEBUG:jax._src.dispatch:Finished XLA compilation of jit(test_fun) in 0.965963840 sec\n"
          ]
        },
        {
          "output_type": "stream",
          "name": "stdout",
          "text": [
            "CPU times: user 1.03 s, sys: 119 ms, total: 1.15 s\n",
            "Wall time: 1.62 s\n"
          ]
        }
      ]
    },
    {
      "cell_type": "code",
      "source": [
        "import jax\n",
        "import jax.numpy as jnp\n",
        "from jax import jit\n",
        "import numpy as np\n",
        "import timeit\n",
        "from jax import export\n",
        "import pickle\n",
        "from pathlib import Path\n",
        "\n",
        "\n",
        "def complex_kernel(arr):\n",
        "    multiplier = 2.5\n",
        "    # Element-wise multiplication\n",
        "    arr = arr * multiplier\n",
        "\n",
        "    # Apply sine transformation\n",
        "    arr = jnp.sin(arr)\n",
        "\n",
        "    # Normalize the array to mean 0 and standard deviation 1\n",
        "    mean = jnp.mean(arr)\n",
        "    std_dev = jnp.std(arr)\n",
        "\n",
        "    for _ in range(100):\n",
        "      _ = (arr - mean) / std_dev\n",
        "\n",
        "    arr = (arr - mean) / std_dev\n",
        "\n",
        "    return arr\n",
        "\n",
        "# Test the complex kernel on GPU with varying input lengths\n",
        "def test_complex_kernel():\n",
        "    # Different lengths to test\n",
        "    array_lengths = [10, 100, 1000, 10000]\n",
        "    evaluations = 10  # Number of evaluations for each array length\n",
        "\n",
        "    for length in array_lengths:\n",
        "        # Generate a random 1D array of the given length\n",
        "        arr = jnp.array(np.random.randn(length), dtype=jnp.float32)\n",
        "\n",
        "        out_file_name = f'test_array_size_{length}.pkl'\n",
        "\n",
        "        if Path(out_file_name).exists():\n",
        "          with open(out_file_name, 'rb') as f:\n",
        "            serialized = pickle.load(f)\n",
        "        else:\n",
        "          exported = export.export(jax.jit(complex_kernel))(\n",
        "              jax.ShapeDtypeStruct((), jax.ShapedArray(np.float32, shape=length)))\n",
        "          serialized = exported.serialize()\n",
        "\n",
        "          if not Path(out_file_name).exists():\n",
        "            with open(out_file_name, 'wb') as f:\n",
        "                pickle.dump(serialized, f)\n",
        "\n",
        "        rehydrated_exp = export.deserialize(serialized)\n",
        "\n",
        "        # Define a wrapper for the timeit function\n",
        "        def kernel_evaluation():\n",
        "            # return complex_kernel(arr).block_until_ready()  # Ensure GPU sync for timing\n",
        "            return rehydrated_exp.call(arr).block_until_ready()  # Ensure GPU sync for timing\n",
        "\n",
        "        first_iteration_time = timeit.timeit(kernel_evaluation, number=1)\n",
        "\n",
        "        remaining_time = timeit.timeit(kernel_evaluation, number=evaluations - 1)\n",
        "        avg_remaining_time = remaining_time / (evaluations - 1)\n",
        "        total_time = first_iteration_time + remaining_time\n",
        "\n",
        "        # Print timing results\n",
        "        print(f\"Array Length: {length}\")\n",
        "        print(f\"Total time for {evaluations} evaluations: {total_time:f} seconds\")\n",
        "        print(f\"Time for first compilation: {first_iteration_time}\")\n",
        "        print(f\"Average time for remaining evaluation: {avg_remaining_time:f} seconds\\n\")\n",
        "\n",
        "# Run the test case\n",
        "test_complex_kernel()\n"
      ],
      "metadata": {
        "id": "4NT6cH70J3oW",
        "outputId": "177a7002-aefd-4b70-e8ef-2f0e2e8f16fc",
        "colab": {
          "base_uri": "https://localhost:8080/",
          "height": 436
        }
      },
      "execution_count": null,
      "outputs": [
        {
          "output_type": "error",
          "ename": "ValueError",
          "evalue": "Rank mismatch for args[0]: expected () and called with (10,)",
          "traceback": [
            "\u001b[0;31m---------------------------------------------------------------------------\u001b[0m",
            "\u001b[0;31mValueError\u001b[0m                                Traceback (most recent call last)",
            "\u001b[0;32m<ipython-input-8-d3f14b28eb46>\u001b[0m in \u001b[0;36m<cell line: 74>\u001b[0;34m()\u001b[0m\n\u001b[1;32m     72\u001b[0m \u001b[0;34m\u001b[0m\u001b[0m\n\u001b[1;32m     73\u001b[0m \u001b[0;31m# Run the test case\u001b[0m\u001b[0;34m\u001b[0m\u001b[0;34m\u001b[0m\u001b[0m\n\u001b[0;32m---> 74\u001b[0;31m \u001b[0mtest_complex_kernel\u001b[0m\u001b[0;34m(\u001b[0m\u001b[0;34m)\u001b[0m\u001b[0;34m\u001b[0m\u001b[0;34m\u001b[0m\u001b[0m\n\u001b[0m",
            "\u001b[0;32m<ipython-input-8-d3f14b28eb46>\u001b[0m in \u001b[0;36mtest_complex_kernel\u001b[0;34m()\u001b[0m\n\u001b[1;32m     59\u001b[0m             \u001b[0;32mreturn\u001b[0m \u001b[0mrehydrated_exp\u001b[0m\u001b[0;34m.\u001b[0m\u001b[0mcall\u001b[0m\u001b[0;34m(\u001b[0m\u001b[0marr\u001b[0m\u001b[0;34m)\u001b[0m\u001b[0;34m.\u001b[0m\u001b[0mblock_until_ready\u001b[0m\u001b[0;34m(\u001b[0m\u001b[0;34m)\u001b[0m  \u001b[0;31m# Ensure GPU sync for timing\u001b[0m\u001b[0;34m\u001b[0m\u001b[0;34m\u001b[0m\u001b[0m\n\u001b[1;32m     60\u001b[0m \u001b[0;34m\u001b[0m\u001b[0m\n\u001b[0;32m---> 61\u001b[0;31m         \u001b[0mfirst_iteration_time\u001b[0m \u001b[0;34m=\u001b[0m \u001b[0mtimeit\u001b[0m\u001b[0;34m.\u001b[0m\u001b[0mtimeit\u001b[0m\u001b[0;34m(\u001b[0m\u001b[0mkernel_evaluation\u001b[0m\u001b[0;34m,\u001b[0m \u001b[0mnumber\u001b[0m\u001b[0;34m=\u001b[0m\u001b[0;36m1\u001b[0m\u001b[0;34m)\u001b[0m\u001b[0;34m\u001b[0m\u001b[0;34m\u001b[0m\u001b[0m\n\u001b[0m\u001b[1;32m     62\u001b[0m \u001b[0;34m\u001b[0m\u001b[0m\n\u001b[1;32m     63\u001b[0m         \u001b[0mremaining_time\u001b[0m \u001b[0;34m=\u001b[0m \u001b[0mtimeit\u001b[0m\u001b[0;34m.\u001b[0m\u001b[0mtimeit\u001b[0m\u001b[0;34m(\u001b[0m\u001b[0mkernel_evaluation\u001b[0m\u001b[0;34m,\u001b[0m \u001b[0mnumber\u001b[0m\u001b[0;34m=\u001b[0m\u001b[0mevaluations\u001b[0m \u001b[0;34m-\u001b[0m \u001b[0;36m1\u001b[0m\u001b[0;34m)\u001b[0m\u001b[0;34m\u001b[0m\u001b[0;34m\u001b[0m\u001b[0m\n",
            "\u001b[0;32m/usr/lib/python3.10/timeit.py\u001b[0m in \u001b[0;36mtimeit\u001b[0;34m(stmt, setup, timer, number, globals)\u001b[0m\n\u001b[1;32m    232\u001b[0m            number=default_number, globals=None):\n\u001b[1;32m    233\u001b[0m     \u001b[0;34m\"\"\"Convenience function to create Timer object and call timeit method.\"\"\"\u001b[0m\u001b[0;34m\u001b[0m\u001b[0;34m\u001b[0m\u001b[0m\n\u001b[0;32m--> 234\u001b[0;31m     \u001b[0;32mreturn\u001b[0m \u001b[0mTimer\u001b[0m\u001b[0;34m(\u001b[0m\u001b[0mstmt\u001b[0m\u001b[0;34m,\u001b[0m \u001b[0msetup\u001b[0m\u001b[0;34m,\u001b[0m \u001b[0mtimer\u001b[0m\u001b[0;34m,\u001b[0m \u001b[0mglobals\u001b[0m\u001b[0;34m)\u001b[0m\u001b[0;34m.\u001b[0m\u001b[0mtimeit\u001b[0m\u001b[0;34m(\u001b[0m\u001b[0mnumber\u001b[0m\u001b[0;34m)\u001b[0m\u001b[0;34m\u001b[0m\u001b[0;34m\u001b[0m\u001b[0m\n\u001b[0m\u001b[1;32m    235\u001b[0m \u001b[0;34m\u001b[0m\u001b[0m\n\u001b[1;32m    236\u001b[0m def repeat(stmt=\"pass\", setup=\"pass\", timer=default_timer,\n",
            "\u001b[0;32m/usr/lib/python3.10/timeit.py\u001b[0m in \u001b[0;36mtimeit\u001b[0;34m(self, number)\u001b[0m\n\u001b[1;32m    176\u001b[0m         \u001b[0mgc\u001b[0m\u001b[0;34m.\u001b[0m\u001b[0mdisable\u001b[0m\u001b[0;34m(\u001b[0m\u001b[0;34m)\u001b[0m\u001b[0;34m\u001b[0m\u001b[0;34m\u001b[0m\u001b[0m\n\u001b[1;32m    177\u001b[0m         \u001b[0;32mtry\u001b[0m\u001b[0;34m:\u001b[0m\u001b[0;34m\u001b[0m\u001b[0;34m\u001b[0m\u001b[0m\n\u001b[0;32m--> 178\u001b[0;31m             \u001b[0mtiming\u001b[0m \u001b[0;34m=\u001b[0m \u001b[0mself\u001b[0m\u001b[0;34m.\u001b[0m\u001b[0minner\u001b[0m\u001b[0;34m(\u001b[0m\u001b[0mit\u001b[0m\u001b[0;34m,\u001b[0m \u001b[0mself\u001b[0m\u001b[0;34m.\u001b[0m\u001b[0mtimer\u001b[0m\u001b[0;34m)\u001b[0m\u001b[0;34m\u001b[0m\u001b[0;34m\u001b[0m\u001b[0m\n\u001b[0m\u001b[1;32m    179\u001b[0m         \u001b[0;32mfinally\u001b[0m\u001b[0;34m:\u001b[0m\u001b[0;34m\u001b[0m\u001b[0;34m\u001b[0m\u001b[0m\n\u001b[1;32m    180\u001b[0m             \u001b[0;32mif\u001b[0m \u001b[0mgcold\u001b[0m\u001b[0;34m:\u001b[0m\u001b[0;34m\u001b[0m\u001b[0;34m\u001b[0m\u001b[0m\n",
            "\u001b[0;32m/usr/lib/python3.10/timeit.py\u001b[0m in \u001b[0;36minner\u001b[0;34m(_it, _timer, _stmt)\u001b[0m\n",
            "\u001b[0;32m<ipython-input-8-d3f14b28eb46>\u001b[0m in \u001b[0;36mkernel_evaluation\u001b[0;34m()\u001b[0m\n\u001b[1;32m     57\u001b[0m         \u001b[0;32mdef\u001b[0m \u001b[0mkernel_evaluation\u001b[0m\u001b[0;34m(\u001b[0m\u001b[0;34m)\u001b[0m\u001b[0;34m:\u001b[0m\u001b[0;34m\u001b[0m\u001b[0;34m\u001b[0m\u001b[0m\n\u001b[1;32m     58\u001b[0m             \u001b[0;31m# return complex_kernel(arr).block_until_ready()  # Ensure GPU sync for timing\u001b[0m\u001b[0;34m\u001b[0m\u001b[0;34m\u001b[0m\u001b[0m\n\u001b[0;32m---> 59\u001b[0;31m             \u001b[0;32mreturn\u001b[0m \u001b[0mrehydrated_exp\u001b[0m\u001b[0;34m.\u001b[0m\u001b[0mcall\u001b[0m\u001b[0;34m(\u001b[0m\u001b[0marr\u001b[0m\u001b[0;34m)\u001b[0m\u001b[0;34m.\u001b[0m\u001b[0mblock_until_ready\u001b[0m\u001b[0;34m(\u001b[0m\u001b[0;34m)\u001b[0m  \u001b[0;31m# Ensure GPU sync for timing\u001b[0m\u001b[0;34m\u001b[0m\u001b[0;34m\u001b[0m\u001b[0m\n\u001b[0m\u001b[1;32m     60\u001b[0m \u001b[0;34m\u001b[0m\u001b[0m\n\u001b[1;32m     61\u001b[0m         \u001b[0mfirst_iteration_time\u001b[0m \u001b[0;34m=\u001b[0m \u001b[0mtimeit\u001b[0m\u001b[0;34m.\u001b[0m\u001b[0mtimeit\u001b[0m\u001b[0;34m(\u001b[0m\u001b[0mkernel_evaluation\u001b[0m\u001b[0;34m,\u001b[0m \u001b[0mnumber\u001b[0m\u001b[0;34m=\u001b[0m\u001b[0;36m1\u001b[0m\u001b[0;34m)\u001b[0m\u001b[0;34m\u001b[0m\u001b[0;34m\u001b[0m\u001b[0m\n",
            "\u001b[0;32m/usr/local/lib/python3.10/dist-packages/jax/_src/export/_export.py\u001b[0m in \u001b[0;36mcall\u001b[0;34m(self, *args, **kwargs)\u001b[0m\n\u001b[1;32m    339\u001b[0m \u001b[0;34m\u001b[0m\u001b[0m\n\u001b[1;32m    340\u001b[0m   \u001b[0;32mdef\u001b[0m \u001b[0mcall\u001b[0m\u001b[0;34m(\u001b[0m\u001b[0mself\u001b[0m\u001b[0;34m,\u001b[0m \u001b[0;34m*\u001b[0m\u001b[0margs\u001b[0m\u001b[0;34m,\u001b[0m \u001b[0;34m**\u001b[0m\u001b[0mkwargs\u001b[0m\u001b[0;34m)\u001b[0m\u001b[0;34m:\u001b[0m\u001b[0;34m\u001b[0m\u001b[0;34m\u001b[0m\u001b[0m\n\u001b[0;32m--> 341\u001b[0;31m     \u001b[0;32mreturn\u001b[0m \u001b[0mcall_exported\u001b[0m\u001b[0;34m(\u001b[0m\u001b[0mself\u001b[0m\u001b[0;34m)\u001b[0m\u001b[0;34m(\u001b[0m\u001b[0;34m*\u001b[0m\u001b[0margs\u001b[0m\u001b[0;34m,\u001b[0m \u001b[0;34m**\u001b[0m\u001b[0mkwargs\u001b[0m\u001b[0;34m)\u001b[0m\u001b[0;34m\u001b[0m\u001b[0;34m\u001b[0m\u001b[0m\n\u001b[0m\u001b[1;32m    342\u001b[0m \u001b[0;34m\u001b[0m\u001b[0m\n\u001b[1;32m    343\u001b[0m \u001b[0;34m\u001b[0m\u001b[0m\n",
            "\u001b[0;32m/usr/local/lib/python3.10/dist-packages/jax/_src/export/_export.py\u001b[0m in \u001b[0;36mf_imported\u001b[0;34m(*args, **kwargs)\u001b[0m\n\u001b[1;32m   1197\u001b[0m       \u001b[0;32mraise\u001b[0m \u001b[0mValueError\u001b[0m\u001b[0;34m(\u001b[0m\u001b[0mmsg\u001b[0m\u001b[0;34m)\u001b[0m\u001b[0;34m\u001b[0m\u001b[0;34m\u001b[0m\u001b[0m\n\u001b[1;32m   1198\u001b[0m \u001b[0;34m\u001b[0m\u001b[0m\n\u001b[0;32m-> 1199\u001b[0;31m     \u001b[0mres_flat\u001b[0m \u001b[0;34m=\u001b[0m \u001b[0mf_flat\u001b[0m\u001b[0;34m(\u001b[0m\u001b[0;34m*\u001b[0m\u001b[0margs_flat\u001b[0m\u001b[0;34m)\u001b[0m\u001b[0;34m\u001b[0m\u001b[0;34m\u001b[0m\u001b[0m\n\u001b[0m\u001b[1;32m   1200\u001b[0m     \u001b[0;32mreturn\u001b[0m \u001b[0mexported\u001b[0m\u001b[0;34m.\u001b[0m\u001b[0mout_tree\u001b[0m\u001b[0;34m.\u001b[0m\u001b[0munflatten\u001b[0m\u001b[0;34m(\u001b[0m\u001b[0mres_flat\u001b[0m\u001b[0;34m)\u001b[0m\u001b[0;34m\u001b[0m\u001b[0;34m\u001b[0m\u001b[0m\n\u001b[1;32m   1201\u001b[0m   \u001b[0;32mreturn\u001b[0m \u001b[0mf_imported\u001b[0m\u001b[0;34m\u001b[0m\u001b[0;34m\u001b[0m\u001b[0m\n",
            "    \u001b[0;31m[... skipping hidden 5 frame]\u001b[0m\n",
            "\u001b[0;32m/usr/local/lib/python3.10/dist-packages/jax/_src/export/_export.py\u001b[0m in \u001b[0;36mf_flat\u001b[0;34m(*args_flat)\u001b[0m\n\u001b[1;32m   1153\u001b[0m   \u001b[0;34m@\u001b[0m\u001b[0mjax\u001b[0m\u001b[0;34m.\u001b[0m\u001b[0mcustom_vjp\u001b[0m\u001b[0;34m\u001b[0m\u001b[0;34m\u001b[0m\u001b[0m\n\u001b[1;32m   1154\u001b[0m   \u001b[0;32mdef\u001b[0m \u001b[0mf_flat\u001b[0m\u001b[0;34m(\u001b[0m\u001b[0;34m*\u001b[0m\u001b[0margs_flat\u001b[0m\u001b[0;34m)\u001b[0m\u001b[0;34m:\u001b[0m\u001b[0;34m\u001b[0m\u001b[0;34m\u001b[0m\u001b[0m\n\u001b[0;32m-> 1155\u001b[0;31m     \u001b[0;32mreturn\u001b[0m \u001b[0mcall_exported_p\u001b[0m\u001b[0;34m.\u001b[0m\u001b[0mbind\u001b[0m\u001b[0;34m(\u001b[0m\u001b[0;34m*\u001b[0m\u001b[0margs_flat\u001b[0m\u001b[0;34m,\u001b[0m \u001b[0mexported\u001b[0m\u001b[0;34m=\u001b[0m\u001b[0mexported\u001b[0m\u001b[0;34m)\u001b[0m\u001b[0;34m\u001b[0m\u001b[0;34m\u001b[0m\u001b[0m\n\u001b[0m\u001b[1;32m   1156\u001b[0m \u001b[0;34m\u001b[0m\u001b[0m\n\u001b[1;32m   1157\u001b[0m   \u001b[0;32mdef\u001b[0m \u001b[0mf_flat_vjp_fwd\u001b[0m\u001b[0;34m(\u001b[0m\u001b[0;34m*\u001b[0m\u001b[0margs_flat\u001b[0m\u001b[0;34m)\u001b[0m\u001b[0;34m:\u001b[0m\u001b[0;34m\u001b[0m\u001b[0;34m\u001b[0m\u001b[0m\n",
            "    \u001b[0;31m[... skipping hidden 3 frame]\u001b[0m\n",
            "\u001b[0;32m/usr/local/lib/python3.10/dist-packages/jax/_src/export/_export.py\u001b[0m in \u001b[0;36m_call_exported_impl\u001b[0;34m(exported, *args)\u001b[0m\n\u001b[1;32m   1271\u001b[0m \u001b[0;34m\u001b[0m\u001b[0m\n\u001b[1;32m   1272\u001b[0m \u001b[0;32mdef\u001b[0m \u001b[0m_call_exported_impl\u001b[0m\u001b[0;34m(\u001b[0m\u001b[0;34m*\u001b[0m\u001b[0margs\u001b[0m\u001b[0;34m,\u001b[0m \u001b[0mexported\u001b[0m\u001b[0;34m:\u001b[0m \u001b[0mExported\u001b[0m\u001b[0;34m)\u001b[0m\u001b[0;34m:\u001b[0m\u001b[0;34m\u001b[0m\u001b[0;34m\u001b[0m\u001b[0m\n\u001b[0;32m-> 1273\u001b[0;31m   \u001b[0;32mreturn\u001b[0m \u001b[0mdispatch\u001b[0m\u001b[0;34m.\u001b[0m\u001b[0mapply_primitive\u001b[0m\u001b[0;34m(\u001b[0m\u001b[0mcall_exported_p\u001b[0m\u001b[0;34m,\u001b[0m \u001b[0;34m*\u001b[0m\u001b[0margs\u001b[0m\u001b[0;34m,\u001b[0m \u001b[0mexported\u001b[0m\u001b[0;34m=\u001b[0m\u001b[0mexported\u001b[0m\u001b[0;34m)\u001b[0m\u001b[0;34m\u001b[0m\u001b[0;34m\u001b[0m\u001b[0m\n\u001b[0m\u001b[1;32m   1274\u001b[0m \u001b[0;34m\u001b[0m\u001b[0m\n\u001b[1;32m   1275\u001b[0m \u001b[0mcall_exported_p\u001b[0m\u001b[0;34m.\u001b[0m\u001b[0mdef_impl\u001b[0m\u001b[0;34m(\u001b[0m\u001b[0m_call_exported_impl\u001b[0m\u001b[0;34m)\u001b[0m\u001b[0;34m\u001b[0m\u001b[0;34m\u001b[0m\u001b[0m\n",
            "    \u001b[0;31m[... skipping hidden 19 frame]\u001b[0m\n",
            "\u001b[0;32m/usr/local/lib/python3.10/dist-packages/jax/_src/export/_export.py\u001b[0m in \u001b[0;36m_call_exported_abstract_eval\u001b[0;34m(exported, *in_avals)\u001b[0m\n\u001b[1;32m   1222\u001b[0m                                                           arg_idx, dim_idx)\n\u001b[1;32m   1223\u001b[0m     \u001b[0;32mif\u001b[0m \u001b[0mlen\u001b[0m\u001b[0;34m(\u001b[0m\u001b[0mexp_aval\u001b[0m\u001b[0;34m.\u001b[0m\u001b[0mshape\u001b[0m\u001b[0;34m)\u001b[0m \u001b[0;34m!=\u001b[0m \u001b[0mlen\u001b[0m\u001b[0;34m(\u001b[0m\u001b[0mactual_aval\u001b[0m\u001b[0;34m.\u001b[0m\u001b[0mshape\u001b[0m\u001b[0;34m)\u001b[0m\u001b[0;34m:\u001b[0m\u001b[0;34m\u001b[0m\u001b[0;34m\u001b[0m\u001b[0m\n\u001b[0;32m-> 1224\u001b[0;31m       raise ValueError(\n\u001b[0m\u001b[1;32m   1225\u001b[0m           \u001b[0;34mf\"Rank mismatch for {pp_arg_dim(None)}: expected {exp_aval.shape} \"\u001b[0m\u001b[0;34m\u001b[0m\u001b[0;34m\u001b[0m\u001b[0m\n\u001b[1;32m   1226\u001b[0m           f\"and called with {actual_aval.shape}\")\n",
            "\u001b[0;31mValueError\u001b[0m: Rank mismatch for args[0]: expected () and called with (10,)"
          ]
        }
      ]
    },
    {
      "cell_type": "code",
      "source": [
        "from jax._src.lib import xla_client\n",
        "getattr(xla_client.Client, \"supports_executable_serialization\", True)"
      ],
      "metadata": {
        "id": "A89R7TJCMexL",
        "colab": {
          "base_uri": "https://localhost:8080/"
        },
        "outputId": "44f44f64-051b-4eb5-ccdb-8c8084609dea"
      },
      "execution_count": null,
      "outputs": [
        {
          "output_type": "execute_result",
          "data": {
            "text/plain": [
              "True"
            ]
          },
          "metadata": {},
          "execution_count": 6
        }
      ]
    },
    {
      "cell_type": "code",
      "source": [],
      "metadata": {
        "id": "V-Szdbz7SRlp"
      },
      "execution_count": null,
      "outputs": []
    }
  ]
}